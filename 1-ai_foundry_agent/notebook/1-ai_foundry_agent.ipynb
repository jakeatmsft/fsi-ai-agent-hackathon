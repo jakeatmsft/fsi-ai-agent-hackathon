{
 "cells": [
  {
   "cell_type": "markdown",
   "metadata": {},
   "source": [
    "# Tutorial: Building and Using AI Agents with Azure"
   ]
  },
  {
   "cell_type": "markdown",
   "metadata": {},
   "source": [
    "Welcome to the **AI Agents Tutorial**! In this notebook, you'll learn how to build and use AI agents leveraging Azure services. We'll walk through the setup, necessary imports, function definitions, and integration with Azure's AI Project Client.\n",
    "\n",
    "## Table of Contents\n",
    "1. [Prerequisites](#Prerequisites)\n",
    "2. [Importing Necessary Libraries](#Importing-Necessary-Libraries)\n",
    "3. [Utility Functions](#Utility-Functions)\n",
    "4. [Setting Up AI Project Client](#Setting-Up-AI-Project-Client)\n",
    "5. [Defining the AI Agent](#Defining-the-AI-Agent)\n",
    "6. [Helper Functions](#Helper-Functions)\n",
    "7. [Running the AI Agent](#Running-the-AI-Agent)\n",
    "8. [Conclusion](#Conclusion)"
   ]
  },
  {
   "cell_type": "markdown",
   "metadata": {},
   "source": [
    "## Prerequisites\n",
    "\n",
    "Before we begin, ensure you have the following installed:\n",
    "\n",
    "- Python 3.8 or higher\n",
    "- [Jupyter Notebook](https://jupyter.org/install)\n",
    "- Azure SDK for Python\n",
    "- Required Python packages (listed in the [Installation](#Installation) section)"
   ]
  },
  {
   "cell_type": "markdown",
   "metadata": {},
   "source": [
    "### Installation\n",
    "\n",
    "Install the necessary Python packages using `pip`. It's recommended to use a virtual environment.\n",
    "\n",
    "```bash\n",
    "pip install asyncio aiohttp beautifulsoup4 readability-lxml httpx dotenv azure-ai-projects azure-identity azure-monitor-opentelemetry opentelemetry-api promptflow\n",
    "```"
   ]
  },
  {
   "cell_type": "code",
   "execution_count": null,
   "id": "installation",
   "metadata": {},
   "outputs": [],
   "source": [
    "%pip install asyncio aiohttp beautifulsoup4 readability-lxml httpx dotenv azure-ai-projects azure-identity azure-monitor-opentelemetry opentelemetry-api promptflow"
   ]
  },
  {
   "cell_type": "markdown",
   "metadata": {},
   "source": [
    "## Importing Necessary Libraries\n",
    "\n",
    "We'll start by importing all the necessary libraries and modules required for our AI agent."
   ]
  },
  {
   "cell_type": "code",
   "execution_count": 2,
   "id": "imports",
   "metadata": {},
   "outputs": [],
   "source": [
    "# ------------------------------------\n",
    "# Importing Libraries\n",
    "# ------------------------------------\n",
    "\n",
    "import asyncio\n",
    "import os\n",
    "import sys\n",
    "from typing import Any, Callable, Set, Dict, List, Optional\n",
    "import urllib, urllib.parse\n",
    "from httpx import AsyncClient, HTTPStatusError, RequestError\n",
    "import json\n",
    "import datetime\n",
    "import re\n",
    "\n",
    "import aiohttp\n",
    "from bs4 import BeautifulSoup\n",
    "from readability import Document\n",
    "\n",
    "import time\n",
    "from pathlib import Path\n",
    "\n",
    "from dotenv import load_dotenv\n",
    "\n",
    "from azure.ai.projects.aio import AIProjectClient\n",
    "from azure.ai.projects.models import (\n",
    "    AsyncFunctionTool,\n",
    "    RequiredFunctionToolCall,\n",
    "    SubmitToolOutputsAction,\n",
    "    ToolOutput,\n",
    "    AsyncToolSet,\n",
    "    CodeInterpreterTool,\n",
    "    BingGroundingTool\n",
    ")\n",
    "from azure.ai.projects.telemetry.agents import AIAgentsInstrumentor\n",
    "from azure.identity.aio import DefaultAzureCredential\n",
    "from azure.monitor.opentelemetry import configure_azure_monitor\n",
    "\n",
    "from opentelemetry import trace"
   ]
  },
  {
   "cell_type": "markdown",
   "metadata": {},
   "source": [
    "## Utility Functions\n",
    "\n",
    "### 1. Fetch Current Datetime\n",
    "\n",
    "This function retrieves the current datetime and formats it as a JSON string."
   ]
  },
  {
   "cell_type": "code",
   "execution_count": 3,
   "id": "fetch_current_datetime",
   "metadata": {},
   "outputs": [],
   "source": [
    "def fetch_current_datetime(format: Optional[str] = None) -> str:\n",
    "    \"\"\"\n",
    "    Get the current time as a JSON string, optionally formatted.\n",
    "    \n",
    "    :param format (Optional[str]): The format in which to return the current time. Defaults to None, which uses a standard format.\n",
    "    :return: The current time in JSON format.\n",
    "    :rtype: str\n",
    "    \"\"\"\n",
    "    current_time = datetime.datetime.now()\n",
    "    \n",
    "    # Use the provided format if available, else use a default format\n",
    "    if format:\n",
    "        time_format = format\n",
    "    else:\n",
    "        time_format = \"%Y-%m-%d %H:%M:%S\"\n",
    "    \n",
    "    time_json = json.dumps({\"current_time\": current_time.strftime(time_format)})\n",
    "    return time_json"
   ]
  },
  {
   "cell_type": "markdown",
   "metadata": {},
   "source": [
    "### 2. Readability Check\n",
    "\n",
    "A placeholder function to determine if the parsed HTML content is readable."
   ]
  },
  {
   "cell_type": "code",
   "execution_count": 4,
   "id": "is_probably_readable",
   "metadata": {},
   "outputs": [],
   "source": [
    "def is_probably_readable(soup: BeautifulSoup, min_score: int = 100) -> bool:\n",
    "    try:\n",
    "        doc = Document(str(soup))\n",
    "        summary = doc.summary()\n",
    "        if summary:\n",
    "            return True\n",
    "        else:\n",
    "            return False\n",
    "    except Exception:\n",
    "        return False"
   ]
  },
  {
   "cell_type": "markdown",
   "metadata": {},
   "source": [
    "### 3. Extract Readable Text\n",
    "\n",
    "This asynchronous function uses the `readability` library to parse and extract the main content from HTML."
   ]
  },
  {
   "cell_type": "code",
   "execution_count": 5,
   "id": "readable_text",
   "metadata": {},
   "outputs": [],
   "source": [
    "async def readable_text(params: Dict[str, Any]) -> Optional[str]:\n",
    "    html = params['html']\n",
    "    url = params['url']\n",
    "    settings = params['settings']\n",
    "    options = params.get('options', {})\n",
    "\n",
    "    # Parse the HTML content\n",
    "    soup = BeautifulSoup(html, 'html.parser')\n",
    "\n",
    "    # Check if the document is probably readable\n",
    "    if options.get('fallback_to_none') and not is_probably_readable(soup):\n",
    "        return html\n",
    "\n",
    "    # Use readability to parse the document\n",
    "    doc = Document(html)\n",
    "    parsed = doc.summary()\n",
    "    parsed_title = doc.title()\n",
    "\n",
    "    # Create a new BeautifulSoup object for the parsed content\n",
    "    readability_soup = BeautifulSoup(parsed, 'html.parser')\n",
    "\n",
    "    # Insert the title at the beginning of the content\n",
    "    if parsed_title:\n",
    "        title_element = readability_soup.new_tag('h1')\n",
    "        title_element.string = parsed_title\n",
    "        readability_soup.insert(0, title_element)\n",
    "\n",
    "    return str(readability_soup)"
   ]
  },
  {
   "cell_type": "markdown",
   "metadata": {},
   "source": [
    "### 4. Process HTML Content\n",
    "\n",
    "This function processes the raw HTML content by removing specified elements and optionally transforming it to readable text."
   ]
  },
  {
   "cell_type": "code",
   "execution_count": 6,
   "id": "process_html",
   "metadata": {},
   "outputs": [],
   "source": [
    "async def process_html(html: str, url: str, settings: dict, soup: BeautifulSoup) -> str:\n",
    "    body = soup.body\n",
    "    if 'remove_elements_css_selector' in settings:\n",
    "        for element in body.select(settings['remove_elements_css_selector']):\n",
    "            element.decompose()\n",
    "    \n",
    "    simplified_body = body.decode_contents().strip()\n",
    "    #simplified_body = re.sub(r'class=\"[^\\\"]*\"', '', simplified_body)\n",
    "\n",
    "    if isinstance(simplified_body, str):\n",
    "        simplified = f\"\"\"<html lang=\"\">\n",
    "        <head>\n",
    "            <title>\n",
    "                {soup.title.string if soup.title else ''}\n",
    "            </title>\n",
    "        </head>\n",
    "        <body>\n",
    "            {simplified_body}\n",
    "        </body>\n",
    "    </html>\"\"\"\n",
    "    else:\n",
    "        simplified = html or ''\n",
    "    \n",
    "    ret = None\n",
    "    if settings.get('html_transformer') == 'readableText':\n",
    "        try:\n",
    "            ret = await readable_text({'html': simplified, 'url': url, 'settings': settings, 'options': {'fallback_to_none': False}})\n",
    "        except Exception as error:\n",
    "            print(f\"Processing of HTML failed with error: {error}\")\n",
    "            # Consider re-raising the exception or returning a default value\n",
    "            # raise error\n",
    "            ret = simplified  # Or some other default value\n",
    "    \n",
    "    return ret or simplified"
   ]
  },
  {
   "cell_type": "markdown",
   "metadata": {},
   "source": [
    "### 5. Fetch Webpage Content\n",
    "\n",
    "This asynchronous function retrieves the content of a webpage given its URL."
   ]
  },
  {
   "cell_type": "code",
   "execution_count": 7,
   "id": "get_webpage",
   "metadata": {},
   "outputs": [],
   "source": [
    "async def get_webpage(url: str) -> str:\n",
    "    \"\"\"Sends an HTTP GET request to the specified URI and returns the response body as a string.\n",
    "    \n",
    "    :param url (str): webpage url.\n",
    "    :return: A string containing webpage content. \n",
    "    :rtype: str\n",
    "    \"\"\"\n",
    "    \"\"\"Returns the content of the webpage at the specified URL.\"\"\"\n",
    "    if not url:\n",
    "        raise SystemError(\"url cannot be `None` or empty\")\n",
    "    \n",
    "    \n",
    "    async with aiohttp.ClientSession() as session:\n",
    "        try:\n",
    "            async with session.get(url, raise_for_status=True) as response:\n",
    "                response_text = await response.text()\n",
    "                result = await process_html(response_text,  url, {'html_transformer': 'readableText','readableTextCharThreshold': 500}, BeautifulSoup(response_text, 'html.parser'))\n",
    "                return result\n",
    "        except Exception as e:\n",
    "            print(f\"Error fetching or processing webpage {url}: {e}\")\n",
    "            return \"\"  # Or raise the exception, depending on desired behavior"
   ]
  },
  {
   "cell_type": "markdown",
   "metadata": {},
   "source": [
    "### 6. Registering User Async Functions\n",
    "\n",
    "Here, we define a set of asynchronous functions that can be used as tools by the AI agent."
   ]
  },
  {
   "cell_type": "code",
   "execution_count": 10,
   "id": "user_async_functions",
   "metadata": {},
   "outputs": [],
   "source": [
    "# Statically defined user functions for fast reference with send_email as async but the rest as sync\n",
    "user_async_function_tools: Set[Callable[..., Any]] = {\n",
    "    fetch_current_datetime,\n",
    "    get_webpage,\n",
    "}"
   ]
  },
  {
   "cell_type": "markdown",
   "metadata": {},
   "source": [
    "## Setting Up AI Project Client\n",
    "\n",
    "Load environment variables and configure telemetry for monitoring."
   ]
  },
  {
   "cell_type": "code",
   "execution_count": 11,
   "id": "setup_ai_project_client",
   "metadata": {},
   "outputs": [],
   "source": [
    "import asyncio\n",
    "import datetime\n",
    "import os\n",
    "import time\n",
    "from pathlib import Path\n",
    "\n",
    "\n",
    "dotenv_path = Path('deploy.env')\n",
    "if dotenv_path.exists():\n",
    "    load_dotenv(dotenv_path)\n",
    "else:\n",
    "    print(\"Error: 'deploy.env' file not found.  Make sure to create one.\")\n",
    "\n",
    "tracer = trace.get_tracer(__name__)"
   ]
  },
  {
   "cell_type": "markdown",
   "id": "15ef2d76",
   "metadata": {},
   "source": [
    "## Helper Functions\n",
    "\n",
    "These functions assist in formatting the AI agent's responses, especially handling citations."
   ]
  },
  {
   "cell_type": "code",
   "execution_count": 30,
   "id": "print_response_with_citations",
   "metadata": {},
   "outputs": [],
   "source": [
    "def print_response_with_citations(response):\n",
    "    \"\"\"Prints the response value with citations in Markdown format.\"\"\"\n",
    "    if 'value' not in response:\n",
    "        print(\"Unexpected response format:\", response)\n",
    "        return \"Error: Unexpected response format\"\n",
    "\n",
    "    value = response['value']\n",
    "    annotations = response.get('annotations', [])\n",
    "\n",
    "    last_index = 0\n",
    "    output = \"\"\n",
    "\n",
    "    for annotation in annotations:\n",
    "        if annotation['type'] == 'url_citation':\n",
    "            start_index = annotation['start_index']\n",
    "            end_index = annotation['end_index']\n",
    "            text = annotation['text']\n",
    "            url = annotation['url_citation']['url']\n",
    "\n",
    "            output += value[last_index:start_index]\n",
    "            output += f\"[{text}]({url})\"\n",
    "            last_index = end_index\n",
    "\n",
    "    output += value[last_index:]\n",
    "    return(output)"
   ]
  },
  {
   "cell_type": "markdown",
   "id": "7f66d9e3",
   "metadata": {},
   "source": [
    "## Defining the AI Agent\n",
    "\n",
    "The `agent_websearch` function is the core of our AI agent. It initializes the agent, sets up tools, creates communication threads, and processes runs."
   ]
  },
  {
   "cell_type": "code",
   "execution_count": 19,
   "id": "agent_websearch",
   "metadata": {},
   "outputs": [],
   "source": [
    "async def agent_websearch(question: str, model_deployment: str, bing_grounding_conn: str) -> str:\n",
    "    async with DefaultAzureCredential() as creds:\n",
    "        async with AIProjectClient.from_connection_string(\n",
    "            credential=creds, conn_str=os.environ[\"PROJECT_CONNECTION_STRING\"],\n",
    "        ) as project_client:\n",
    "            \n",
    "            application_insights_connection_string = await project_client.telemetry.get_connection_string()\n",
    "            configure_azure_monitor(connection_string=application_insights_connection_string)\n",
    "            \n",
    "            bing_connection = await project_client.connections.get(connection_name=bing_grounding_conn)\n",
    "            conn_id = bing_connection.id\n",
    "            # Initialize assistant functions\n",
    "            functions = AsyncFunctionTool(functions=user_async_function_tools)\n",
    "            code_interpreter = CodeInterpreterTool()\n",
    "            bing_grounding = BingGroundingTool(conn_id)\n",
    "\n",
    "            \n",
    "            toolset = AsyncToolSet()\n",
    "            toolset.add(functions)\n",
    "            toolset.add(code_interpreter)\n",
    "            toolset.add(bing_grounding)\n",
    "    \n",
    "            agent_name = \"docs-research-assistant\"\n",
    "            # Try to find an existing agent with the name \"docs-research-assistant\"\n",
    "            agents = await project_client.agents.list_agents()\n",
    "            agent = next((a for a in agents.data if a.name == agent_name), None)\n",
    "\n",
    "            if agent is None:\n",
    "                # Create agent if not found\n",
    "                agent = await project_client.agents.create_agent(\n",
    "                    model=model_deployment,\n",
    "                    name=agent_name,\n",
    "                    instructions='You are a question answerer using documentation site. Use the WebSearch tool to retrieve information to answer the questions from the docs site. Prepend \"site:learn.microsoft.com\" to any search query to search only the documentation site. You take in questions from a questionnaire and emit the answers, using documentation from the public web. You also emit links to any websites you find that help answer the questions. Do not address the user; make all responses solely in the third person. If you do not find information on a topic, simply respond that no information is available on that topic. The answer should be no greater than 1000 characters in length. When providing code examples, ensure they are properly formatted and include necessary context. If a question is ambiguous, ask for clarification.',\n",
    "                    tools=functions.definitions + code_interpreter.definitions + bing_grounding.definitions\n",
    "                )\n",
    "                print(f\"Created agent, agent ID: {agent.id}\")\n",
    "            else:\n",
    "                print(f\"Found existing agent: {agent.id}\")\n",
    "\n",
    "            # Create thread for communication\n",
    "            thread = await project_client.agents.create_thread()\n",
    "            print(f\"Created thread, ID: {thread.id}\")\n",
    "\n",
    "            # Create and send message\n",
    "            message = await project_client.agents.create_message(\n",
    "                thread_id=thread.id, role=\"user\", content=f\"Current date is {datetime.datetime.now().strftime('%Y-%m-%d')}. {question}\"\n",
    "            )\n",
    "            print(f\"Created message, ID: {message.id}\")\n",
    "\n",
    "            # Create and process agent run in thread with tools\n",
    "            # [START create_and_process_run]\n",
    "            run = await project_client.agents.create_and_process_run(thread_id=thread.id, assistant_id=agent.id, toolset=toolset)\n",
    "            # [END create_and_process_run]\n",
    "            print(f\"Run finished with status: {run.status}\")\n",
    "\n",
    "            if run.status == \"failed\":\n",
    "                print(f\"Run failed: {run.last_error}\")\n",
    "\n",
    "            print(f\"Run completed with status: {run.status}\")\n",
    "\n",
    "            # Fetch and log all messages\n",
    "            messages = await project_client.agents.list_messages(thread_id=thread.id)\n",
    "            print(f\"Messages: {messages}\")\n",
    "\n",
    "            for file_path_annotation in messages.file_path_annotations:\n",
    "                print(f\"File Paths:\")\n",
    "                print(f\"Type: {file_path_annotation.type}\")\n",
    "                print(f\"Text: {file_path_annotation.text}\")\n",
    "                print(f\"File ID: {file_path_annotation.file_path.file_id}\")\n",
    "                print(f\"Start Index: {file_path_annotation.start_index}\")\n",
    "                print(f\"End Index: {file_path_annotation.end_index}\")\n",
    "                file_name = Path(file_path_annotation.text).name\n",
    "                await project_client.agents.save_file(\n",
    "                    file_id=file_path_annotation.file_path.file_id, file_name=file_name\n",
    "                )\n",
    "                print(f\"Saved image file to: {Path.cwd() / file_name}\")\n",
    "\n",
    "            last_message = messages.text_messages[0].text\n",
    "            return last_message"
   ]
  },
  {
   "cell_type": "markdown",
   "metadata": {},
   "source": [
    "## Running the AI Agent\n",
    "\n",
    "To execute the AI agent, you can run the `agent_websearch` function with appropriate parameters. Here's an example of how to use it."
   ]
  },
  {
   "cell_type": "code",
   "execution_count": 33,
   "id": "run_agent",
   "metadata": {},
   "outputs": [
    {
     "name": "stderr",
     "output_type": "stream",
     "text": [
      "c:\\Users\\jacwang\\AppData\\Local\\anaconda3\\envs\\pyaml\\Lib\\collections\\__init__.py:449: RuntimeWarning: coroutine 'main' was never awaited\n",
      "  result = tuple_new(cls, iterable)\n",
      "RuntimeWarning: Enable tracemalloc to get the object allocation traceback\n"
     ]
    },
    {
     "name": "stdout",
     "output_type": "stream",
     "text": [
      "Found existing agent: asst_aEu9rC2i3CztUq71krwWoPwJ\n",
      "Created thread, ID: thread_JyBw73QBHcLnPMpGETBkY2uT\n",
      "Created message, ID: msg_gmnsbiik8Qmjbcmc59m9WvOP\n",
      "Run finished with status: RunStatus.COMPLETED\n",
      "Run completed with status: RunStatus.COMPLETED\n",
      "Messages: {'object': 'list', 'data': [{'id': 'msg_RnnLGZwkLY6OMxr8FfBGMewd', 'object': 'thread.message', 'created_at': 1741297403, 'assistant_id': 'asst_aEu9rC2i3CztUq71krwWoPwJ', 'thread_id': 'thread_JyBw73QBHcLnPMpGETBkY2uT', 'run_id': 'run_agaJ6Q6fUEwk9AjSMOdDnM1Y', 'role': 'assistant', 'content': [{'type': 'text', 'text': {'value': 'As of February 2025, Azure OpenAI Service introduced the GPT-4.5 Preview, which excels in diverse text and image tasks. This latest model requires registration for access, and eligibility is determined by Microsoft. Additionally, the service has enhanced its Stored Completions API, which captures conversation history for use in evaluations and fine-tuning【3†source】.', 'annotations': [{'type': 'url_citation', 'text': '【3†source】', 'start_index': 357, 'end_index': 367, 'url_citation': {'url': 'https://azurecharts.com/updates', 'title': 'Latest Azure Updates'}}]}}], 'attachments': [], 'metadata': {}}, {'id': 'msg_gmnsbiik8Qmjbcmc59m9WvOP', 'object': 'thread.message', 'created_at': 1741297399, 'assistant_id': None, 'thread_id': 'thread_JyBw73QBHcLnPMpGETBkY2uT', 'run_id': None, 'role': 'user', 'content': [{'type': 'text', 'text': {'value': 'Current date is 2025-03-06. What is the latest update on Azure OpenAI service?', 'annotations': []}}], 'attachments': [], 'metadata': {}}], 'first_id': 'msg_RnnLGZwkLY6OMxr8FfBGMewd', 'last_id': 'msg_gmnsbiik8Qmjbcmc59m9WvOP', 'has_more': False}\n",
      "\n",
      "AI Agent Response:\n"
     ]
    },
    {
     "data": {
      "text/plain": [
       "'As of February 2025, Azure OpenAI Service introduced the GPT-4.5 Preview, which excels in diverse text and image tasks. This latest model requires registration for access, and eligibility is determined by Microsoft. Additionally, the service has enhanced its Stored Completions API, which captures conversation history for use in evaluations and fine-tuning[【3†source】](https://azurecharts.com/updates).'"
      ]
     },
     "execution_count": 33,
     "metadata": {},
     "output_type": "execute_result"
    }
   ],
   "source": [
    "question = \"What is the latest update on Azure OpenAI service?\"\n",
    "model_deployment = \"gpt-4o\"  # Replace with your actual model deployment name\n",
    "bing_grounding_conn = \"binggrounding\"  # Replace with your actual Bing connection name\n",
    "\n",
    "response = await agent_websearch(question, model_deployment, bing_grounding_conn)\n",
    "print(\"\\nAI Agent Response:\")\n",
    "print_response_with_citations(response)\n"
   ]
  },
  {
   "cell_type": "markdown",
   "metadata": {},
   "source": [
    "### Explanation:\n",
    "\n",
    "- **question**: The query you want the AI agent to answer.\n",
    "- **model_deployment**: The name of your deployed AI model.\n",
    "- **bing_grounding_conn**: The name of your Bing grounding connection for web searches.\n",
    "\n",
    "Ensure that you have set up your Azure credentials and necessary environment variables in the `deploy.env` file."
   ]
  },
  {
   "cell_type": "markdown",
   "metadata": {},
   "source": [
    "## Conclusion\n",
    "\n",
    "In this tutorial, you've learned how to set up and use an AI agent with Azure services. By following the structured approach—importing libraries, defining utility functions, setting up the AI Project Client, and defining the agent—you can build robust AI-driven applications.\n",
    "\n",
    "Feel free to extend this notebook by adding more functionalities, customizing the agent's instructions, or integrating additional tools as per your project requirements."
   ]
  }
 ],
 "metadata": {
  "kernelspec": {
   "display_name": "pyaml",
   "language": "python",
   "name": "python3"
  },
  "language_info": {
   "codemirror_mode": {
    "name": "ipython",
    "version": 3
   },
   "file_extension": ".py",
   "mimetype": "text/x-python",
   "name": "python",
   "nbconvert_exporter": "python",
   "pygments_lexer": "ipython3",
   "version": "3.12.0"
  }
 },
 "nbformat": 4,
 "nbformat_minor": 5
}
